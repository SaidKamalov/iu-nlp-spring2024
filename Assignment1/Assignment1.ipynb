{
  "cells": [
    {
      "cell_type": "markdown",
      "metadata": {},
      "source": [
        "TODO:\n",
        "\n",
        "- задебажить токенайз\n",
        "- остальное добить"
      ]
    },
    {
      "cell_type": "markdown",
      "metadata": {
        "id": "RKboZnAdgrRM"
      },
      "source": [
        "# [NLP] Assignment 1: Tokenization\n",
        "\n",
        "In this assignment, you need to tokenize the text of the Twitter(X) users posts(tweets). The assignment consists of two tasks. When you finish all the tasks, create a GitHub repository for this assignment (you can use this repo later for the other assignments) and submit this notebook in the repository. Leave `requirements.txt` file if your code requires additional installations. Submit the link to the repository in Moodle.\n",
        "\n",
        "The [data](https://drive.google.com/file/d/15x_wPAflvYQ2Xh38iNQGrqUIWLj5l5Nw/view?usp=share_link) contains 5 files whereby each contains 44 tweets. Each tweet is separated by a newline."
      ]
    },
    {
      "cell_type": "markdown",
      "metadata": {
        "id": "aLDjjAvemUP_"
      },
      "source": [
        "## Task 1. Tokenize some tweets manually (20 points)\n",
        "\n",
        "As a first task you need to tokenize first 15 tweets from `file2` by hand. This will allow you to understand the problem from a linguistic point of view. The guidelines for tweet tokenization are as follows:\n",
        "\n",
        "- Each smiley is a separate token\n",
        "- Each hashtag is an individual token. Each user reference is an individual token\n",
        "- If a word has spaces between them then it is converted to a single token\n",
        "- All punctuations are individual tokens. This includes double-quotes and single quotes also\n",
        "- A URL is a single token\n",
        "\n",
        "Example of output\n",
        "\n",
        "    Input tweet\n",
        "    @xfranman Old age has made N A T O!\n",
        "\n",
        "    Tokenized tweet (separated by comma)\n",
        "    @xfranman , Old , age , has , made , NATO , !"
      ]
    },
    {
      "cell_type": "markdown",
      "metadata": {
        "id": "7KKKwTidnzUw"
      },
      "source": [
        "\n",
        "    1. Input tweet\n",
        "    ...\n",
        "    1. Tokenized tweet\n",
        "    ...\n",
        "\n",
        "    2. Input tweet\n",
        "    ...\n",
        "    2. Tokenized tweet\n",
        "    ..."
      ]
    },
    {
      "cell_type": "markdown",
      "metadata": {},
      "source": [
        "1. Camping in Maine for the weekend. Hey Dad, Mama Loves YOU: http://www.mamapalooza.com\n",
        "- [Camping, in, Maine, for, the, weekend, ., Hey, Dad, ',', Mama, Loves, YOU, :, http://www.mamapalooza.com] \n",
        "2. Its american tradition bitch\n",
        "- [Its, american, tradition, bitch]\n",
        "3. @ThroughTheVoid They love it! The only pleasure they get in life. I actually do that. I'm sure I hear a tiny squeak... Then louder ones\n",
        "- [@ThroughTheVoid, They, love, it, !, The, only, pleasure, they, get, in, life, ., I, actually, do, that, ., I, ', m, sure, I, hear, a, tiny, squeak, ., ., ., Then, louder, ones]\n",
        "4. \" RT @latti: @AbsoHilare stop tweeting in church! Lol <--- \"\"I tweet because I'm happy, I tweet because I'm free\"\" LOL!\"\n",
        "- [\", RT, @latti, :, @AbsoHilare, stop, tweeting, in, church, !, Lol, <, -, -, -, \", \", I, tweet, because, I, ', m, happy, ',', I, tweet, because, I, ', m, free, \", \", LOL, !, \"]\n",
        "5. Samsung Mini S2 portable HDD graced with colors that perfectly match your tacky beach gear: Sammy's done it aga.. http://tinyurl.com/lb5p6m\n",
        "- [Samsung, Mini, S2, portable, HDD, graced, with, colors, that, perfectly, match, your, tacky, beach, gear, :, Sammy, ', s, done, it, aga, ., ., http://tinyurl.com/lb5p6m]\n",
        "6. @dialloc congrats on finding your way over. it may be slow going at first. hang in there. it's kinda cool when u get up to speed.\n",
        "- [@dialloc, congrats, on, finding, your, way, over, ., it, may, be, slow, going, at, first, ., hang, in, there, ., it, ', s, kinda, cool, when, u, get, up, to, speed]\n",
        "7. iPhone activation delays continue, Apple offers $30 http://twt.gs/l3Ki\n",
        "- [iPhone, activation, delays, continue, Apple, offers, 30$, http://twt.gs/l3Ki]\n",
        "8. RT @GoogleAtWork Gmail maximum attachment size now 25MB http://bit.ly/62mjw Nice!!!\n",
        "- [RT, @GoogleAtWork, Gmail, maximum, attachment, size, now, 25MB, http://bit.ly/62mjw, Nice, !, !, !]\n",
        "9. RT @acfou The Ads Won Awards for Crispin; But Did Nothing for Client BurgerKing's Sales/Marketshare - Big Surprise - http://ping.fm/vw8TI\n",
        "- [RT, ',', @acfou, The, Ads, Won, Awards, for, Crispin, ;, But, Did, Nothing, for, Client, BurgerKing, ', s, Sales, /, Marketshare, -, Big, Surprise, -, http://ping.fm/vw8TI]\n",
        "10. Hey doll! Great I missed True Blood yday boo lol Rt @FrankBanuat78 @jhillstephens Hello Sunshine how are u today? :-)\n",
        "- [Hey, doll, !, Great, I, missed, True, Blood, yday, boo, lol, Rt, @FrankBanuat78, @jhillstephens, Hello, Sunshine, how, are, u, today, ?, :-)]\n",
        "11. Australian artist Pogo made these free songs primarily from sampled audio from Alice In Wonderland. http://www.last.fm/music/Pogo/Wonderland\n",
        "- [Australian, artist, Pogo, made, these, free, songs, primarily, from, sampled, audio, from, Alice, In, Wonderland, ., http://www.last.fm/music/Pogo/Wonderland]\n",
        "12. @mppritchard they wanted to sell all the preorders & then sell all of the ones they had in stock to those that just walked in. Can't do both\n",
        "- [@mppritchard, they, wanted, to, sell, all, the, preorders, &, then, sell, all, of, the, ones, they, had, in stock, to, those, that, just, walked, in, ., Can, ', t, do, both]\n",
        "13. Incoming: Frightened Rabbit, Sept. 22 (Tucson): If Fat Cat Records is going to send three great bands from Scot.. http://tinyurl.com/nz6xcv\n",
        "- [Incoming, :, Frightened, Rabbit, ',', Sept, ., 22, (, Tucson, ), :, If, Fat, Cat, Records, is, going, to, send, three, great, bands, from, Scot, ., ., http://tinyurl.com/nz6xcv]\n",
        "14. Hey @ginoandfran please greet philip! (GinoandFran live > http://ustre.am/2YyQ)\n",
        "- [Hey, @ginoandfran, please, greet, philip, !, (, GinoandFran, live, >, http://ustre.am/2YyQ, )]\n",
        "15. Ik weet niet wie er achter de T-Mobile iPhone Twitter zit maar ik vind het niet echt 'corporate' taalgebruik... Best vreemd eigenlijk\n",
        "- [Ik, weet, niet, wie, er, achter, de, T-Mobile, iPhone, Twitter, zit, maar, ik, vind, het, niet, echt, ', corporate, ', taalgebruik, ., ., ., Best, vreemd, eigenlijk]"
      ]
    },
    {
      "cell_type": "markdown",
      "metadata": {
        "id": "-2J2AD2nmUhi"
      },
      "source": [
        "## Task 2. Implement [Byte-Pair Encoding(BPE)](https://arxiv.org/pdf/1508.07909.pdf) Tokenizer (80 points)\n",
        "\n",
        "### Task 2.1. Implementation (60 points)\n",
        "\n",
        "Implement the tokenizer as the BPETokenizer class:\n",
        "* Implement `train` method that learns merges and builds the vocabulary of the specified `vocab_size` (25 points).\n",
        "* Implement `tokenize` method that should tokenize the text according to the learnt merges (25 points).\n",
        "\n",
        "Your code should have docstrings and comments (10 points)."
      ]
    },
    {
      "cell_type": "code",
      "execution_count": 1,
      "metadata": {},
      "outputs": [],
      "source": [
        "import matplotlib.pyplot as plt"
      ]
    },
    {
      "cell_type": "code",
      "execution_count": 29,
      "metadata": {},
      "outputs": [],
      "source": [
        "from typing import List\n",
        "from collections import Counter, defaultdict\n",
        "\n",
        "\n",
        "class BPETokenizer:\n",
        "\n",
        "    def __init__(self, vocab_size: int) -> None:\n",
        "        \"\"\"\n",
        "        Byte-Pair Encoding Tokenizer.\n",
        "\n",
        "        Params:\n",
        "            vocab_size: int - the size of desired extended vocabulary.\n",
        "\n",
        "        Returns:\n",
        "            new BPETokenizer.\n",
        "        \"\"\"\n",
        "\n",
        "        self.vocab_size = vocab_size\n",
        "        self.vocab = set()\n",
        "\n",
        "        # word: frequency_from_corpus\n",
        "        self.word_freqs = defaultdict(int)\n",
        "\n",
        "        # word: its_splitted_version\n",
        "        self.splits = {}\n",
        "\n",
        "        # the dict will store appearing merges\n",
        "        self.merges = {}\n",
        "\n",
        "    def _analyze_corpus(self, corpus: list[str]) -> dict[str, int]:\n",
        "        \"\"\"\n",
        "        Private method which calculates word frequencies from a give corpus.\n",
        "\n",
        "        Param:\n",
        "            corpus: list[str] - given corpus, sentence by sentence.\n",
        "\n",
        "        Returns:\n",
        "            word_freqs: dict[str, int] - word frequency dict.\n",
        "        \"\"\"\n",
        "        word_freqs = defaultdict(int)\n",
        "        for sentence in corpus:\n",
        "            for word in sentence.split():\n",
        "                word_freqs[word] += 1\n",
        "        return word_freqs\n",
        "\n",
        "    def _init_vocab(self, words: list[str]) -> set[str]:\n",
        "        \"\"\"\n",
        "        Private method which just collect initial vocabulary.\n",
        "\n",
        "        Params:\n",
        "            words: list[str] - all words from initial corpus.\n",
        "\n",
        "        Returns:\n",
        "            vocab: set[str] - set of unique characters appeared in words.\n",
        "        \"\"\"\n",
        "        vocab = set()\n",
        "        for word in words:\n",
        "            for c in word:\n",
        "                vocab.add(c)\n",
        "        vocab.add(\"<SEP>\")\n",
        "        return vocab\n",
        "\n",
        "    def _get_freqs(self) -> Counter:\n",
        "        \"\"\"\n",
        "        Private method which calculates frequecies for each pair from every word.\n",
        "\n",
        "        Returns:\n",
        "            pairs: Counter - where key is a pair of characters and value is the frequency of this pair.\n",
        "        \"\"\"\n",
        "        pairs = Counter()\n",
        "        for word, freq in self.word_freqs.items():\n",
        "            split = self.splits[word]\n",
        "            for i in range(len(split) - 1):\n",
        "                pairs[split[i], split[i + 1]] += freq\n",
        "        return pairs\n",
        "\n",
        "    def _merge(\n",
        "        self, pair: tuple[str, str], splits: dict[str, list[str]]\n",
        "    ) -> dict[str, list[str]]:\n",
        "        \"\"\"\n",
        "        Private method which merge adjacent characters in words if they are equal to pair.\n",
        "\n",
        "        Params:\n",
        "            pair: tuple[str,str] - pair of characters to merge.\n",
        "            splits: dict[str, list[str]] - word: its_splitted_version\n",
        "\n",
        "        Returns:\n",
        "            splits_new: dict[str, list[str]] - updated version of splits.\n",
        "        \"\"\"\n",
        "        l, r = pair\n",
        "        splits_new = {}\n",
        "        for word, split in splits.items():\n",
        "            i = 0\n",
        "            split_copy = split.copy()\n",
        "            # apply merging\n",
        "            while i < len(split_copy) - 1:\n",
        "                if split_copy[i] == l and split_copy[i + 1] == r:\n",
        "                    split_copy = split_copy[:i] + [l + r] + split_copy[i + 2 :]\n",
        "                else:\n",
        "                    i += 1\n",
        "            splits_new[word] = split_copy\n",
        "        return splits_new\n",
        "\n",
        "    def train(self, corpus: list[str]) -> None:\n",
        "        \"\"\"\n",
        "        Train the BPE.\n",
        "\n",
        "        Params:\n",
        "            corpus: list[str] - given corpus.\n",
        "\n",
        "        Returns:\n",
        "            None - just trains BPE.\n",
        "        \"\"\"\n",
        "        self.word_freqs = self._analyze_corpus(corpus)\n",
        "        self.vocab = self._init_vocab(words=self.word_freqs.keys())\n",
        "        # \"<SEP>\" here means the end of word.\n",
        "        # And a word is just a sequence of characters without spaces.\n",
        "        self.splits = {\n",
        "            word: [c for c in word] + [\"<SEP>\"] for word in self.word_freqs.keys()\n",
        "        }\n",
        "\n",
        "        while len(self.vocab) < self.vocab_size:\n",
        "            all_pairs = self._get_freqs()\n",
        "            if not all_pairs:\n",
        "                # will end the loop if all possible merges are learned.\n",
        "                break\n",
        "            # get the most frequent pair to merge.\n",
        "            most_popular_pair = all_pairs.most_common(1)[0][0]\n",
        "            # merge.\n",
        "            self.splits = self._merge(most_popular_pair, self.splits)\n",
        "            # save learned merging.\n",
        "            self.merges[most_popular_pair] = most_popular_pair[0] + most_popular_pair[1]\n",
        "            # extend the vocabulary.\n",
        "            self.vocab.add(most_popular_pair[0] + most_popular_pair[1])\n",
        "\n",
        "    def tokenize(self, text: str) -> list[list[str]]:\n",
        "        \"\"\"\n",
        "        Inference of BPE tokenizer.\n",
        "\n",
        "        Params: \n",
        "            text: str - just text to tokenize.\n",
        "\n",
        "        Returns:\n",
        "            tokenized_text: list[list[str]] - each tokenized word is a subarray.\n",
        "        \"\"\"\n",
        "        splited_text = {word: [c for c in word] + [\"<SEP>\"] for word in text.split()}\n",
        "\n",
        "        for pair in self.merges.keys():\n",
        "            splited_text = self._merge(pair, splited_text)\n",
        "\n",
        "        tokenized_text = [splited_text[word] for word in text.split()]\n",
        "        return tokenized_text"
      ]
    },
    {
      "cell_type": "markdown",
      "metadata": {},
      "source": [
        "References:\n",
        "1. Neural Machine Translation of Rare Words with Subword Units: https://arxiv.org/pdf/1508.07909.pdf\n",
        "2. Some implementation of BPE from github: https://github.com/DolbyUUU/byte_pair_encoding_BPE_subword_tokenization_implementation_python\n",
        "3. Byte-Pair Encoding: Subword-based tokenization algorithm: https://towardsdatascience.com/byte-pair-encoding-subword-based-tokenization-algorithm-77828a70bee0"
      ]
    },
    {
      "cell_type": "code",
      "execution_count": 9,
      "metadata": {},
      "outputs": [],
      "source": [
        "def get_vocab_size(text: list[str]):\n",
        "    \"\"\"Just helper function to get initial vocabulary size\"\"\"\n",
        "    vocab = set()\n",
        "    for t in text:\n",
        "        for w in t.split():\n",
        "            for c in w:\n",
        "                vocab.add(c)\n",
        "    return(len(vocab) + 1)"
      ]
    },
    {
      "cell_type": "markdown",
      "metadata": {},
      "source": [
        "Just small example"
      ]
    },
    {
      "cell_type": "code",
      "execution_count": 27,
      "metadata": {},
      "outputs": [],
      "source": [
        "text = [\"low low low low low lowest lowest newer newer newer newer newer newer wider wider wider new new\"]\n",
        "bpe = BPETokenizer(20)\n",
        "bpe.train(text)"
      ]
    },
    {
      "cell_type": "code",
      "execution_count": 28,
      "metadata": {},
      "outputs": [
        {
          "data": {
            "text/plain": [
              "[['new', '<SEP>'], ['low<SEP>'], ['s', 'u', 'n', '<SEP>']]"
            ]
          },
          "execution_count": 28,
          "metadata": {},
          "output_type": "execute_result"
        }
      ],
      "source": [
        "bpe.tokenize(\"new low sun\")"
      ]
    },
    {
      "cell_type": "markdown",
      "metadata": {},
      "source": [
        "### Task 2.2. Analysis on Tweets Dataset (10 points)\n",
        "\n",
        "Train the BPE tokenizer on the tweets dataset. Try to tokenize the tweets with the tokenizer of different `vocab_size`. For example, train the BPE tokenizer with `vocab_size` of [base_vocab_size, 250, 500, 750, 1000]. Plot the dependency of the average length of the tokenized tweet by `vocab_size` to analyze how `vocab_size` affects the length of the tokenized tweet on average. Tell what `vocab_size` is preferrable and why."
      ]
    },
    {
      "cell_type": "code",
      "execution_count": 7,
      "metadata": {},
      "outputs": [],
      "source": [
        "\"\"\"Read the data\"\"\"\n",
        "corpus = []\n",
        "for i in range(1,6):\n",
        "    with open(f\"Assignment1_data/file{i}\", \"r\") as file:\n",
        "        for f in file.readlines():\n",
        "            corpus.append(f)"
      ]
    },
    {
      "cell_type": "code",
      "execution_count": 10,
      "metadata": {},
      "outputs": [
        {
          "data": {
            "text/plain": [
              "167"
            ]
          },
          "execution_count": 10,
          "metadata": {},
          "output_type": "execute_result"
        }
      ],
      "source": [
        "get_vocab_size(corpus)"
      ]
    },
    {
      "cell_type": "code",
      "execution_count": 13,
      "metadata": {},
      "outputs": [
        {
          "name": "stdout",
          "output_type": "stream",
          "text": [
            "for vocab size = 167, avg length of tweet = 98.2909090909091\n",
            "for vocab size = 250, avg length of tweet = 65.67727272727272\n",
            "for vocab size = 500, avg length of tweet = 50.277272727272724\n",
            "for vocab size = 750, avg length of tweet = 44.78636363636364\n",
            "for vocab size = 1000, avg length of tweet = 41.18181818181818\n"
          ]
        }
      ],
      "source": [
        "vocab_sizes = [get_vocab_size(corpus), 250, 500, 750, 1000]\n",
        "avg_len_of_tweet = []\n",
        "\n",
        "for s in vocab_sizes:\n",
        "    bpe = BPETokenizer(vocab_size=s)\n",
        "    bpe.train(corpus)\n",
        "    tweet_len_sum = 0\n",
        "    for tweet in corpus:\n",
        "        res = bpe.tokenize(tweet)\n",
        "        tweet_len_sum += len(sum(res, []))\n",
        "    avg_len_of_tweet.append(tweet_len_sum / len(corpus))\n",
        "    print(f\"for vocab size = {s}, avg length of tweet = {avg_len_of_tweet[-1]}\")"
      ]
    },
    {
      "cell_type": "code",
      "execution_count": 14,
      "metadata": {},
      "outputs": [
        {
          "data": {
            "image/png": "[encoded data removed]",
            "text/plain": [
              "<Figure size 640x480 with 1 Axes>"
            ]
          },
          "metadata": {},
          "output_type": "display_data"
        }
      ],
      "source": [
        "plt.plot(vocab_sizes, avg_len_of_tweet)\n",
        "plt.title(\"Corpus of tweets\")\n",
        "plt.xlabel(\"vocab size\")\n",
        "plt.ylabel(\"avg length of tweets, in tokens\")\n",
        "plt.show()"
      ]
    },
    {
      "cell_type": "markdown",
      "metadata": {},
      "source": [
        "**Conclusion**\n",
        "\n",
        "As far as I can understand, we should find a balance between and ability to generalize the data and parse it to as meaningfull tokens as possible. In other words, obtained merges should be not very small to have meaningful tokens, and at the same time not all of them should be just complete or almost complete words to avoid overfitting.\n",
        "\n",
        "So my conclusion based on the graph is that we may pick the value from 500 to 750 to reach these conditions."
      ]
    },
    {
      "cell_type": "markdown",
      "metadata": {},
      "source": [
        "### Task 2.3. Analysis on Dataset of Different Language (10 points)\n",
        "\n",
        "Find a small dataset of texts in a language other than English. The dataset size should be not greater than several megabytes.\n",
        "\n",
        "Train the BPE tokenizer on the dataset that you found. Try to tokenize the sentences from this dataset with the tokenizer of different `vocab_size`. Plot the dependency of the average length of the tokenized sentence by `vocab_size` to analyze how `vocab_size` affects the length of the tokenized sentence on average.\n",
        "\n",
        "Tell how how the average length of the tokenized sentence differs from the average length of the tokenized tweet. Explain why. "
      ]
    },
    {
      "cell_type": "code",
      "execution_count": 21,
      "metadata": {},
      "outputs": [
        {
          "data": {
            "text/plain": [
              "['«Вы́ставочный центр» — станция Московского монорельса. Расположена между станциями «Улица Академика Королёва» и «Улица Сергея Эйзенштейна». Находится на территории Останкинского района Северо-Восточного административного округа города Москвы. Переход на станцию  ВДНХ Калужско-Рижской линии. Названа в честь Всероссийского выставочного центра — названия ВДНХ с 1992 по 2014 год. 20 ноября 2004 года линия монорельса начала работать в «экскурсионном режиме» и перевезла первых пассажиров .',\n",
              " 'Вы́ставка достиже́ний наро́дного хозя́йства  , в 1959—1991 годах — Вы́ставка достиже́ний наро́дного хозя́йства СССР , в 1992—2014 годах — Всеросси́йский вы́ставочный центр ) — выставочный комплекс в Останкинском районе Северо-Восточного административного округа города Москвы, второй по величине выставочный комплекс в городе. Входит в 50 крупнейших выставочных центров мира. Ежегодно ВДНХ посещают 30 млн гостей. 1 августа 2019 года выставка отпраздновала 80-летний юбилей. Территориально ВДНХ объединена с парком «Останкино» и Главным ботаническим садом , их общая площадь составляет почти 700 га: 240,2 га — площадь ВДНХ, 75,6 га — площадь парка «Останкино», 361 га — площадь ГБС, 9,5 га музейно-выставочный центр «Рабочий и колхозница» и площадь перед аркой Главного входа. На территории Выставки расположено множество шедевров архитектуры — 49 объектов ВДНХ признаны памятниками культурного наследия.']"
            ]
          },
          "execution_count": 21,
          "metadata": {},
          "output_type": "execute_result"
        }
      ],
      "source": [
        "# Your code here\n",
        "import json\n",
        "\n",
        "data = []\n",
        "with open('Assignment1_data/train.jsonl', 'r') as f:\n",
        "    for line in f:\n",
        "        data.append(str(json.loads(line)['passage']))\n",
        "\n",
        "#just example\n",
        "data[:2]"
      ]
    },
    {
      "cell_type": "markdown",
      "metadata": {},
      "source": [
        "Reference:\n",
        "1. DaNetQA (SuperGlue) dataset: https://metatext.io/redirect/danetqa-(superglue)"
      ]
    },
    {
      "cell_type": "code",
      "execution_count": 23,
      "metadata": {},
      "outputs": [
        {
          "data": {
            "text/plain": [
              "179"
            ]
          },
          "execution_count": 23,
          "metadata": {},
          "output_type": "execute_result"
        }
      ],
      "source": [
        "russian_corpus = data[:500]\n",
        "get_vocab_size(russian_corpus)"
      ]
    },
    {
      "cell_type": "code",
      "execution_count": 24,
      "metadata": {},
      "outputs": [
        {
          "name": "stdout",
          "output_type": "stream",
          "text": [
            "for vocab size = 179, avg length of tweet = 86.4090909090909\n",
            "for vocab size = 250, avg length of tweet = 65.67727272727272\n",
            "for vocab size = 500, avg length of tweet = 50.277272727272724\n",
            "for vocab size = 750, avg length of tweet = 44.78636363636364\n",
            "for vocab size = 1000, avg length of tweet = 41.18181818181818\n"
          ]
        }
      ],
      "source": [
        "vocab_sizes = [get_vocab_size(russian_corpus), 250, 500, 750, 1000]\n",
        "avg_len_of_sentence = []\n",
        "\n",
        "for s in vocab_sizes:\n",
        "    bpe = BPETokenizer(vocab_size=s)\n",
        "    bpe.train(corpus)\n",
        "    sentence_len_sum = 0\n",
        "    for sentence in corpus:\n",
        "        res = bpe.tokenize(sentence)\n",
        "        sentence_len_sum += len(sum(res, []))\n",
        "    avg_len_of_sentence.append(sentence_len_sum / len(corpus))\n",
        "    print(f\"for vocab size = {s}, avg length of tweet = {avg_len_of_sentence[-1]}\")"
      ]
    },
    {
      "cell_type": "code",
      "execution_count": 25,
      "metadata": {},
      "outputs": [
        {
          "data": {
            "image/png": "[encoded data removed]",
            "text/plain": [
              "<Figure size 640x480 with 1 Axes>"
            ]
          },
          "metadata": {},
          "output_type": "display_data"
        }
      ],
      "source": [
        "plt.plot(vocab_sizes, avg_len_of_sentence)\n",
        "plt.title(\"Corpus of tweets\")\n",
        "plt.xlabel(\"vocab size\")\n",
        "plt.ylabel(\"avg length of tweets, in tokens\")\n",
        "plt.show()"
      ]
    },
    {
      "cell_type": "markdown",
      "metadata": {},
      "source": [
        "**Conclusion**\n",
        "\n",
        "Seems like there is no a big difference between the results. Such situation may occur do to similairy between english language and spoken russian in some syntactic way. So the the choice between 500 and 750 might also be good."
      ]
    },
    {
      "cell_type": "markdown",
      "metadata": {},
      "source": [
        "## Why the avg len of sentence decreasing while vocab size is increasing?\n",
        "\n",
        "**Answer:**\n",
        "\n",
        "When common pairs/substrings are merged into one token, the length of the sentences, when represented by these tokens, decreases as each token represents a larger part of the sentence. Simultaneously, the size of the vocabulary increases because these new, larger tokens are being added to it.\n",
        "\n",
        "\n"
      ]
    }
  ],
  "metadata": {
    "colab": {
      "provenance": [],
      "toc_visible": true
    },
    "kernelspec": {
      "display_name": "Python 3",
      "name": "python3"
    },
    "language_info": {
      "codemirror_mode": {
        "name": "ipython",
        "version": 3
      },
      "file_extension": ".py",
      "mimetype": "text/x-python",
      "name": "python",
      "nbconvert_exporter": "python",
      "pygments_lexer": "ipython3",
      "version": "3.10.4"
    }
  },
  "nbformat": 4,
  "nbformat_minor": 0
}
